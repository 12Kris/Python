{
 "cells": [
  {
   "cell_type": "code",
   "execution_count": 2,
   "metadata": {},
   "outputs": [
    {
     "name": "stdout",
     "output_type": "stream",
     "text": [
      "my int 37 <class 'int'>\n",
      "my float 42.8 <class 'float'>\n",
      "my bool False <class 'bool'>\n",
      "my str Heyyyy! <class 'str'>\n"
     ]
    }
   ],
   "source": [
    "num = int(37)\n",
    "my_float = float(42.8)\n",
    "my_bool = bool(False)\n",
    "my_str = str(\"Heyyyy!\")\n",
    "\n",
    "print(f\"my int {num} {type(num)}\")\n",
    "print(f\"my float {my_float} {type(my_float)}\")\n",
    "print(f\"my bool {my_bool} {type(my_bool)}\")\n",
    "print(f\"my str {my_str} {type(my_str)}\")\n"
   ]
  },
  {
   "cell_type": "code",
   "execution_count": 6,
   "metadata": {},
   "outputs": [
    {
     "name": "stdout",
     "output_type": "stream",
     "text": [
      "результат додавання 40\n",
      "результат віднімання 20\n",
      "результат множення 300\n",
      "результат ділення 3.0\n"
     ]
    }
   ],
   "source": [
    "first_num = int(input(\"Введіть число\"))\n",
    "second_num = int(input(\"Введіть інше число\"))\n",
    "add = first_num + second_num \n",
    "sub = first_num - second_num \n",
    "mult = first_num * second_num \n",
    "div = first_num / second_num \n",
    "\n",
    "print(\"результат додавання\", add)\n",
    "print(\"результат віднімання\", sub)\n",
    "print(\"результат множення\", mult)\n",
    "print(\"результат ділення\", div)\n",
    "\n"
   ]
  },
  {
   "cell_type": "code",
   "execution_count": 3,
   "metadata": {},
   "outputs": [
    {
     "name": "stdout",
     "output_type": "stream",
     "text": [
      "Друге число більше\n"
     ]
    }
   ],
   "source": [
    "def add():\n",
    "    num1 = int(input(\"Введіть число\"))\n",
    "    num2 = int(input(\"Введіть інше число\"))\n",
    "    result = num1 + num2\n",
    "    print(\"Результат:\", result)\n",
    "\n",
    "\n",
    "def sub():\n",
    "    num1 = int(input(\"Введіть число\"))\n",
    "    num2 = int(input(\"Введіть інше число\"))\n",
    "    result = num1 - num2\n",
    "    print(\"Результат:\", result)\n",
    "\n",
    "\n",
    "def mult():\n",
    "    num1 = int(input(\"Введіть число\"))\n",
    "    num2 = int(input(\"Введіть інше число\"))\n",
    "    result = num1 * num2\n",
    "    print(\"Результат:\", result)\n",
    "\n",
    "\n",
    "def div():\n",
    "    num1 = int(input(\"Введіть число\"))\n",
    "    num2 = int(input(\"Введіть інше число\"))\n",
    "    result = num1 / num2\n",
    "    print(\"Результат:\", result)\n",
    "\n",
    "\n",
    "def comp():\n",
    "    num1 = int(input(\"Введіть число\"))\n",
    "    num2 = int(input(\"Введіть інше число\"))\n",
    "    if num1 > num2:\n",
    "        print(\"Перше число більше\")\n",
    "    elif num1 < num2:\n",
    "        print(\"Друге число більше\")\n",
    "    elif  num1 == num2:\n",
    "        print(\"Перше число дорівнює другому\")\n",
    "\n",
    "\n",
    "\n",
    "\n",
    "\n",
    "\n",
    "choose = input(\"Виберіть дію\\n 1. Додавання\\n 2. Віднімання\\n 3. Множення\\n 4. Ділення\\n 5. Порівняння\")\n",
    "match choose:\n",
    "    case \"1\": add()\n",
    "    case \"2\": sub()\n",
    "    case \"3\": mult()\n",
    "    case \"4\": div()\n",
    "    case \"5\": comp()\n",
    "\n",
    "\n",
    "\n"
   ]
  }
 ],
 "metadata": {
  "kernelspec": {
   "display_name": "Python 3.11.4 64-bit",
   "language": "python",
   "name": "python3"
  },
  "language_info": {
   "codemirror_mode": {
    "name": "ipython",
    "version": 3
   },
   "file_extension": ".py",
   "mimetype": "text/x-python",
   "name": "python",
   "nbconvert_exporter": "python",
   "pygments_lexer": "ipython3",
   "version": "3.11.4"
  },
  "orig_nbformat": 4,
  "vscode": {
   "interpreter": {
    "hash": "aee8b7b246df8f9039afb4144a1f6fd8d2ca17a180786b69acc140d282b71a49"
   }
  }
 },
 "nbformat": 4,
 "nbformat_minor": 2
}
