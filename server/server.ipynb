{
 "cells": [
  {
   "cell_type": "code",
   "execution_count": 3,
   "metadata": {},
   "outputs": [
    {
     "name": "stdout",
     "output_type": "stream",
     "text": [
      "('127.0.0.1', 64419): Олег joined the chat!\n",
      "('127.0.0.1', 64419): іваівааіваів\n",
      "('127.0.0.1', 64419): аіваіва\n",
      "('127.0.0.1', 64419): ііваіва\n",
      "('127.0.0.1', 64419): іваіва\n",
      "('127.0.0.1', 64419): ваіва\n"
     ]
    },
    {
     "ename": "KeyboardInterrupt",
     "evalue": "",
     "output_type": "error",
     "traceback": [
      "\u001b[0;31m---------------------------------------------------------------------------\u001b[0m",
      "\u001b[0;31mKeyboardInterrupt\u001b[0m                         Traceback (most recent call last)",
      "\u001b[1;32m/Users/dmitrosavcuk/Desktop/Python_lab1/Cris/__pycache__/server/server.ipynb Cell 1\u001b[0m line \u001b[0;36m4\n\u001b[1;32m     <a href='vscode-notebook-cell:/Users/dmitrosavcuk/Desktop/Python_lab1/Cris/__pycache__/server/server.ipynb#W0sZmlsZQ%3D%3D?line=37'>38</a>\u001b[0m             thread\u001b[39m.\u001b[39mstart()\n\u001b[1;32m     <a href='vscode-notebook-cell:/Users/dmitrosavcuk/Desktop/Python_lab1/Cris/__pycache__/server/server.ipynb#W0sZmlsZQ%3D%3D?line=39'>40</a>\u001b[0m \u001b[39mif\u001b[39;00m \u001b[39m__name__\u001b[39m \u001b[39m==\u001b[39m \u001b[39m\"\u001b[39m\u001b[39m__main__\u001b[39m\u001b[39m\"\u001b[39m:\n\u001b[0;32m---> <a href='vscode-notebook-cell:/Users/dmitrosavcuk/Desktop/Python_lab1/Cris/__pycache__/server/server.ipynb#W0sZmlsZQ%3D%3D?line=40'>41</a>\u001b[0m     start_server()\n",
      "\u001b[1;32m/Users/dmitrosavcuk/Desktop/Python_lab1/Cris/__pycache__/server/server.ipynb Cell 1\u001b[0m line \u001b[0;36m3\n\u001b[1;32m     <a href='vscode-notebook-cell:/Users/dmitrosavcuk/Desktop/Python_lab1/Cris/__pycache__/server/server.ipynb#W0sZmlsZQ%3D%3D?line=31'>32</a>\u001b[0m clients \u001b[39m=\u001b[39m []\n\u001b[1;32m     <a href='vscode-notebook-cell:/Users/dmitrosavcuk/Desktop/Python_lab1/Cris/__pycache__/server/server.ipynb#W0sZmlsZQ%3D%3D?line=33'>34</a>\u001b[0m \u001b[39mwhile\u001b[39;00m \u001b[39mTrue\u001b[39;00m:\n\u001b[0;32m---> <a href='vscode-notebook-cell:/Users/dmitrosavcuk/Desktop/Python_lab1/Cris/__pycache__/server/server.ipynb#W0sZmlsZQ%3D%3D?line=34'>35</a>\u001b[0m     conn, addr \u001b[39m=\u001b[39m server_socket\u001b[39m.\u001b[39;49maccept()\n\u001b[1;32m     <a href='vscode-notebook-cell:/Users/dmitrosavcuk/Desktop/Python_lab1/Cris/__pycache__/server/server.ipynb#W0sZmlsZQ%3D%3D?line=35'>36</a>\u001b[0m     clients\u001b[39m.\u001b[39mappend(conn)\n\u001b[1;32m     <a href='vscode-notebook-cell:/Users/dmitrosavcuk/Desktop/Python_lab1/Cris/__pycache__/server/server.ipynb#W0sZmlsZQ%3D%3D?line=36'>37</a>\u001b[0m     thread \u001b[39m=\u001b[39m threading\u001b[39m.\u001b[39mThread(target\u001b[39m=\u001b[39mclient_thread, args\u001b[39m=\u001b[39m(conn, addr, clients))\n",
      "File \u001b[0;32m/Library/Frameworks/Python.framework/Versions/3.11/lib/python3.11/socket.py:294\u001b[0m, in \u001b[0;36msocket.accept\u001b[0;34m(self)\u001b[0m\n\u001b[1;32m    287\u001b[0m \u001b[39mdef\u001b[39;00m \u001b[39maccept\u001b[39m(\u001b[39mself\u001b[39m):\n\u001b[1;32m    288\u001b[0m \u001b[39m    \u001b[39m\u001b[39m\"\"\"accept() -> (socket object, address info)\u001b[39;00m\n\u001b[1;32m    289\u001b[0m \n\u001b[1;32m    290\u001b[0m \u001b[39m    Wait for an incoming connection.  Return a new socket\u001b[39;00m\n\u001b[1;32m    291\u001b[0m \u001b[39m    representing the connection, and the address of the client.\u001b[39;00m\n\u001b[1;32m    292\u001b[0m \u001b[39m    For IP sockets, the address info is a pair (hostaddr, port).\u001b[39;00m\n\u001b[1;32m    293\u001b[0m \u001b[39m    \"\"\"\u001b[39;00m\n\u001b[0;32m--> 294\u001b[0m     fd, addr \u001b[39m=\u001b[39m \u001b[39mself\u001b[39;49m\u001b[39m.\u001b[39;49m_accept()\n\u001b[1;32m    295\u001b[0m     sock \u001b[39m=\u001b[39m socket(\u001b[39mself\u001b[39m\u001b[39m.\u001b[39mfamily, \u001b[39mself\u001b[39m\u001b[39m.\u001b[39mtype, \u001b[39mself\u001b[39m\u001b[39m.\u001b[39mproto, fileno\u001b[39m=\u001b[39mfd)\n\u001b[1;32m    296\u001b[0m     \u001b[39m# Issue #7995: if no default timeout is set and the listening\u001b[39;00m\n\u001b[1;32m    297\u001b[0m     \u001b[39m# socket had a (non-zero) timeout, force the new socket in blocking\u001b[39;00m\n\u001b[1;32m    298\u001b[0m     \u001b[39m# mode to override platform-specific socket flags inheritance.\u001b[39;00m\n",
      "\u001b[0;31mKeyboardInterrupt\u001b[0m: "
     ]
    }
   ],
   "source": [
    "import socket\n",
    "import threading\n",
    "\n",
    "def client_thread(conn, addr, clients):\n",
    "    try:\n",
    "        while True:\n",
    "            message = conn.recv(1024).decode()\n",
    "            if not message:\n",
    "                break\n",
    "            print(f\"{addr}: {message}\")\n",
    "            broadcast_message = f\"{addr}: {message}\".encode()\n",
    "            for client in clients:\n",
    "                try:\n",
    "                    client.sendall(broadcast_message)\n",
    "                except:\n",
    "                    # Виникає, якщо клієнт відключився\n",
    "                    continue\n",
    "    except Exception as e:\n",
    "        print(f\"Error with {addr}: {e}\")\n",
    "    finally:\n",
    "        conn.close()\n",
    "        clients.remove(conn)\n",
    "\n",
    "def start_server():\n",
    "    host = '127.0.0.1'\n",
    "    port = 1234\n",
    "\n",
    "    with socket.socket(socket.AF_INET, socket.SOCK_STREAM) as server_socket:\n",
    "        server_socket.bind((host, port))\n",
    "        server_socket.listen()\n",
    "\n",
    "        clients = []\n",
    "\n",
    "        while True:\n",
    "            conn, addr = server_socket.accept()\n",
    "            clients.append(conn)\n",
    "            thread = threading.Thread(target=client_thread, args=(conn, addr, clients))\n",
    "            thread.start()\n",
    "\n",
    "if __name__ == \"__main__\":\n",
    "    start_server()\n"
   ]
  }
 ],
 "metadata": {
  "kernelspec": {
   "display_name": "Python 3",
   "language": "python",
   "name": "python3"
  },
  "language_info": {
   "codemirror_mode": {
    "name": "ipython",
    "version": 3
   },
   "file_extension": ".py",
   "mimetype": "text/x-python",
   "name": "python",
   "nbconvert_exporter": "python",
   "pygments_lexer": "ipython3",
   "version": "3.11.5"
  }
 },
 "nbformat": 4,
 "nbformat_minor": 2
}
