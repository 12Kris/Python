{
 "cells": [
  {
   "cell_type": "code",
   "execution_count": 1,
   "metadata": {},
   "outputs": [
    {
     "name": "stderr",
     "output_type": "stream",
     "text": [
      "2023-12-07 20:20:34.646 Python[31397:1586120] WARNING: Secure coding is not enabled for restorable state! Enable secure coding by implementing NSApplicationDelegate.applicationSupportsSecureRestorableState: and returning YES.\n"
     ]
    },
    {
     "ename": "",
     "evalue": "",
     "output_type": "error",
     "traceback": [
      "\u001b[1;31mThe Kernel crashed while executing code in the the current cell or a previous cell. Please review the code in the cell(s) to identify a possible cause of the failure. Click <a href='https://aka.ms/vscodeJupyterKernelCrash'>here</a> for more info. View Jupyter <a href='command:jupyter.viewOutput'>log</a> for further details."
     ]
    }
   ],
   "source": [
    "import tkinter as tk\n",
    "from tkinter import scrolledtext\n",
    "import socket\n",
    "import threading\n",
    "\n",
    "def receive_message():\n",
    "    while True:\n",
    "        try:\n",
    "            message = client_socket.recv(1024).decode()\n",
    "            chat_box.config(state=tk.NORMAL)\n",
    "            chat_box.insert(tk.END, message + \"\\n\")\n",
    "            chat_box.config(state=tk.DISABLED)\n",
    "            chat_box.yview(tk.END)\n",
    "        except:\n",
    "            break\n",
    "\n",
    "def send_message():\n",
    "    message = message_entry.get()\n",
    "    client_socket.sendall(message.encode())\n",
    "    message_entry.delete(0, tk.END)\n",
    "\n",
    "def start_client(username):\n",
    "    global client_socket\n",
    "    client_socket = socket.socket(socket.AF_INET, socket.SOCK_STREAM)\n",
    "    client_socket.connect(('127.0.0.1', 1234))\n",
    "    client_socket.sendall(f\"{username} joined the chat!\".encode())\n",
    "\n",
    "    receive_thread = threading.Thread(target=receive_message)\n",
    "    receive_thread.start()\n",
    "\n",
    "root = tk.Tk()\n",
    "root.title(\"Chat Client\")\n",
    "\n",
    "chat_box = scrolledtext.ScrolledText(root, state=tk.DISABLED)\n",
    "chat_box.pack(padx=10, pady=10, fill=tk.BOTH, expand=True)\n",
    "\n",
    "message_entry = tk.Entry(root)\n",
    "message_entry.pack(padx=10, pady=10, fill=tk.X, expand=True)\n",
    "\n",
    "send_button = tk.Button(root, text=\"Send\", command=send_message)\n",
    "send_button.pack(padx=10, pady=10)\n",
    "\n",
    "username = input(\"Enter your username: \")\n",
    "start_client(username)\n",
    "\n",
    "root.mainloop()"
   ]
  }
 ],
 "metadata": {
  "kernelspec": {
   "display_name": "Python 3",
   "language": "python",
   "name": "python3"
  },
  "language_info": {
   "codemirror_mode": {
    "name": "ipython",
    "version": 3
   },
   "file_extension": ".py",
   "mimetype": "text/x-python",
   "name": "python",
   "nbconvert_exporter": "python",
   "pygments_lexer": "ipython3",
   "version": "3.11.5"
  }
 },
 "nbformat": 4,
 "nbformat_minor": 2
}
