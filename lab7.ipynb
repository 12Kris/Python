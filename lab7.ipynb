{
 "cells": [
  {
   "cell_type": "code",
   "execution_count": 12,
   "metadata": {},
   "outputs": [],
   "source": [
    "import random\n",
    "\n",
    "def charivna_kulka(question):\n",
    "    \"\"\"\n",
    "    Функція, яка приймає питання та повертає випадкову відповідь\n",
    "\n",
    "    Функція вибирає випадкову відповідь зі списку [\"так\", \"ні\", \"можливо\", \"категорично ні\"].\n",
    "    Якщо запитання порожнє, функція поверне повідомлення \"Запитання відсутнє. Будь ласка, задайте питання\"\n",
    "    \"\"\"\n",
    "    answers = [\"так\", \"ні\", \"можливо\", \"категорично ні\"]\n",
    "    if not question:\n",
    "        return \"Запитання відсутнє\"\n",
    "    response = random.choice(answers)\n",
    "    return response\n",
    "\n",
    "def test_response_type():\n",
    "    \"\"\"\n",
    "    Тест перевіряє, чи результат функції є рядком типу str\n",
    "    \"\"\"\n",
    "    user_question = \"Чи виграю я в лотерею?\"  \n",
    "    response = charivna_kulka(user_question)\n",
    "    assert isinstance(response, str)\n",
    "\n",
    "def test_response_in_expected_answers():\n",
    "    \"\"\"\n",
    "    Тест перевіряє, чи результат функції знаходиться серед відповідей\n",
    "    \"\"\"\n",
    "    user_question = \"Чи завтра буде сонячно?\"  \n",
    "    response = charivna_kulka(user_question)\n",
    "    expected_answers = [\"так\", \"ні\", \"можливо\", \"категорично ні\"]\n",
    "    assert response in expected_answers\n",
    "\n",
    "def test_empty_question_response():\n",
    "    \"\"\"\n",
    "    Тест перевіряє реакцію функції на пусте запитання\n",
    "    \"\"\"\n",
    "    empty_question = \"\"\n",
    "    response_empty = charivna_kulka(empty_question)\n",
    "    assert response_empty == \"Запитання відсутнє\"\n",
    "\n",
    "def test_case_insensitivity():\n",
    "    \"\"\"\n",
    "    Тест перевіряє, чи функція правильно обробляє регістр символів у запитанні\n",
    "    \"\"\"\n",
    "    user_question = \"Чи знайду я роботу у майбутньому?\"\n",
    "    response = charivna_kulka(user_question.lower())\n",
    "    assert response in [\"так\", \"ні\", \"можливо\", \"категорично ні\"]\n",
    "\n",
    "test_response_type()\n",
    "test_response_in_expected_answers()\n",
    "test_empty_question_response()\n",
    "test_case_insensitivity()"
   ]
  }
 ],
 "metadata": {
  "kernelspec": {
   "display_name": "Python 3.11.4 64-bit",
   "language": "python",
   "name": "python3"
  },
  "language_info": {
   "codemirror_mode": {
    "name": "ipython",
    "version": 3
   },
   "file_extension": ".py",
   "mimetype": "text/x-python",
   "name": "python",
   "nbconvert_exporter": "python",
   "pygments_lexer": "ipython3",
   "version": "3.11.4"
  },
  "orig_nbformat": 4,
  "vscode": {
   "interpreter": {
    "hash": "aee8b7b246df8f9039afb4144a1f6fd8d2ca17a180786b69acc140d282b71a49"
   }
  }
 },
 "nbformat": 4,
 "nbformat_minor": 2
}
