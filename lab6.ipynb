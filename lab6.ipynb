{
 "cells": [
  {
   "cell_type": "code",
   "execution_count": 1,
   "metadata": {},
   "outputs": [
    {
     "name": "stdout",
     "output_type": "stream",
     "text": [
      "Function: add\n",
      "Call time: 2023-10-27 21:02:33\n",
      "Arguments: ((3, 4), {})\n",
      "Return value: 7\n",
      "Function: subtract\n",
      "Call time: 2023-10-27 21:02:33\n",
      "Arguments: ((10, 5), {})\n",
      "Return value: 5\n",
      "Function: multiply\n",
      "Call time: 2023-10-27 21:02:33\n",
      "Arguments: ((5, 6), {})\n",
      "Return value: 30\n",
      "Function: divide\n",
      "Call time: 2023-10-27 21:02:33\n",
      "Arguments: ((12, 3), {})\n",
      "Return value: 4.0\n"
     ]
    }
   ],
   "source": [
    "import datetime\n",
    "\n",
    "function_calls = []\n",
    "\n",
    "def logger(func):\n",
    "    def wrapper(*args, **kwargs):\n",
    "        call_time = datetime.datetime.now().strftime('%Y-%m-%d %H:%M:%S')\n",
    "        function_name = func.__name__\n",
    "        arguments = (args, kwargs)\n",
    "        return_value = func(*args, **kwargs)\n",
    "\n",
    "        function_calls.append({\n",
    "            'call_time': call_time,\n",
    "            'function_name': function_name,\n",
    "            'arguments': arguments,\n",
    "            'return_value': return_value\n",
    "        })\n",
    "\n",
    "        return return_value\n",
    "\n",
    "    return wrapper\n",
    "\n",
    "def get_logs():\n",
    "    for call in function_calls:\n",
    "        yield call\n",
    "\n",
    "@logger\n",
    "def add(a, b):\n",
    "    return a + b\n",
    "\n",
    "@logger\n",
    "def subtract(a, b):\n",
    "    return a - b\n",
    "\n",
    "@logger\n",
    "def multiply(a, b):\n",
    "    return a * b\n",
    "\n",
    "@logger\n",
    "def divide(a, b):\n",
    "    if b == 0:\n",
    "        return \"Cannot divide by zero\"\n",
    "    return a / b\n",
    "\n",
    "\n",
    "add(3, 4)\n",
    "subtract(10, 5)\n",
    "multiply(5, 6)\n",
    "divide(12, 3)\n",
    "\n",
    "log = get_logs()\n",
    "\n",
    "for call_info in log:\n",
    "    print(f'Function: {call_info[\"function_name\"]}')\n",
    "    print(f'Call time: {call_info[\"call_time\"]}')\n",
    "    print(f'Arguments: {call_info[\"arguments\"]}')\n",
    "    print(f'Return value: {call_info[\"return_value\"]}')"
   ]
  }
 ],
 "metadata": {
  "kernelspec": {
   "display_name": "Python 3.11.4 64-bit",
   "language": "python",
   "name": "python3"
  },
  "language_info": {
   "codemirror_mode": {
    "name": "ipython",
    "version": 3
   },
   "file_extension": ".py",
   "mimetype": "text/x-python",
   "name": "python",
   "nbconvert_exporter": "python",
   "pygments_lexer": "ipython3",
   "version": "3.11.4"
  },
  "orig_nbformat": 4,
  "vscode": {
   "interpreter": {
    "hash": "aee8b7b246df8f9039afb4144a1f6fd8d2ca17a180786b69acc140d282b71a49"
   }
  }
 },
 "nbformat": 4,
 "nbformat_minor": 2
}
