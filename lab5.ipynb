{
 "cells": [
  {
   "cell_type": "code",
   "execution_count": 1,
   "metadata": {},
   "outputs": [
    {
     "name": "stdout",
     "output_type": "stream",
     "text": [
      "База даних автомобілів:\n",
      "Марка, Модель, Рік, Колір\n",
      "Toyota, Corolla, 2005, червоний\n",
      "Hyundai, Elantra, 2018, синій\n",
      "Ford, Focus, 2012, білий\n",
      "BMW, X5, 2016, чорний\n",
      "Mercedes, C-Class, 2020, сріблястий\n",
      "Марка: Hyundai, Середній рік випуску: 2018.00\n",
      "Марка: Ford, Середній рік випуску: 2012.00\n",
      "Марка: BMW, Середній рік випуску: 2016.00\n",
      "Марка: Mercedes, Середній рік випуску: 2020.00\n"
     ]
    }
   ],
   "source": [
    "file_name = 'база_даних_автомобілів.csv'\n",
    "headers = 'Марка, Модель, Рік, Колір\\n'\n",
    "cars = [\n",
    "    'Toyota, Corolla, 2005, червоний\\n',\n",
    "    'Hyundai, Elantra, 2018, синій\\n',\n",
    "    'Ford, Focus, 2012, білий\\n',\n",
    "    'BMW, X5, 2016, чорний\\n',\n",
    "    'Mercedes, C-Class, 2020, сріблястий\\n'\n",
    "]\n",
    "\n",
    "with open(file_name, 'w', encoding='utf-8') as file:\n",
    "    file.write(headers) \n",
    "\n",
    "with open(file_name, 'a', encoding='utf-8') as file:\n",
    "    file.writelines(cars)  \n",
    "\n",
    "print(\"База даних автомобілів:\")\n",
    "with open(file_name, 'r', encoding='utf-8') as file:\n",
    "    for line in file:\n",
    "        print(line.strip()) \n",
    "\n",
    "lines = []\n",
    "with open(file_name, 'r', encoding='utf-8') as file:\n",
    "    for line in file:\n",
    "        if line.startswith('Ford, Focus'):\n",
    "            line = 'Ford, Focus, 2012, зелений\\n'  \n",
    "        lines.append(line)\n",
    "\n",
    "with open(file_name, 'w', encoding='utf-8') as file:\n",
    "    file.writelines(lines)  \n",
    "\n",
    "new_lines = []\n",
    "with open(file_name, 'r', encoding='utf-8') as file:\n",
    "    for line in file:\n",
    "        if not line.startswith('Toyota, Corolla'): \n",
    "            new_lines.append(line)\n",
    "\n",
    "with open(file_name, 'w', encoding='utf-8') as file:\n",
    "    file.writelines(new_lines)  \n",
    "\n",
    "brand_years = {}\n",
    "with open(file_name, 'r', encoding='utf-8') as file:\n",
    "    next(file) \n",
    "    for line in file:\n",
    "        brand, model, year, color = line.strip().split(',')\n",
    "        if brand in brand_years:\n",
    "            brand_years[brand].append(int(year))\n",
    "        else:\n",
    "            brand_years[brand] = [int(year)]\n",
    "\n",
    "for brand, years in brand_years.items():\n",
    "    average_year = sum(years) / len(years)\n",
    "    print(f\"Марка: {brand}, Середній рік випуску: {average_year:.2f}\")"
   ]
  }
 ],
 "metadata": {
  "kernelspec": {
   "display_name": "Python 3.11.4 64-bit",
   "language": "python",
   "name": "python3"
  },
  "language_info": {
   "codemirror_mode": {
    "name": "ipython",
    "version": 3
   },
   "file_extension": ".py",
   "mimetype": "text/x-python",
   "name": "python",
   "nbconvert_exporter": "python",
   "pygments_lexer": "ipython3",
   "version": "3.11.4"
  },
  "orig_nbformat": 4,
  "vscode": {
   "interpreter": {
    "hash": "aee8b7b246df8f9039afb4144a1f6fd8d2ca17a180786b69acc140d282b71a49"
   }
  }
 },
 "nbformat": 4,
 "nbformat_minor": 2
}
